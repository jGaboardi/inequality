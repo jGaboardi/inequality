{
 "cells": [
  {
   "cell_type": "markdown",
   "metadata": {},
   "source": [
    "# Gini-Based Measures of  Spatial Inequality and Polarization\n",
    "\n",
    "\n",
    "This notebook explores the measurement of spatial inequality and polarization using the Gini coefficient, with a particular focus on Mexican state-level income data between 1940 and 2000.  `pysal-inequality` extends the classic Gini coefficient, which quantifies income inequality,  to account for spatial relationships among neighboring regions. By leveraging spatial weights matrices, we distinguish between inequality contributions from neighboring areas versus distant areas, enabling a deeper understanding of spatial economic disparities.\n",
    "\n",
    "The analysis begins with an overview of the data, which includes decennial per capita incomes of Mexican states, followed by the calculation of the classic Gini coefficient to establish baseline inequality levels. We then extend the analysis to the spatial Gini coefficient, incorporating spatial relationships to reveal localized inequality patterns. The notebook culminates in the Gini-based spatial polarization index, which highlights the extent to which the inequality has a spatial structure.\n",
    "\n",
    "\n",
    "\n",
    "\n",
    "## Imports & Input Data\n"
   ]
  },
  {
   "cell_type": "code",
   "execution_count": null,
   "metadata": {},
   "outputs": [],
   "source": [
    "%config InlineBackend.figure_format = \"retina\"\n",
    "%load_ext watermark\n",
    "%watermark"
   ]
  },
  {
   "cell_type": "code",
   "execution_count": null,
   "metadata": {},
   "outputs": [],
   "source": [
    "import geopandas\n",
    "import inequality\n",
    "import libpysal\n",
    "import matplotlib.pyplot as plt\n",
    "import numpy\n",
    "import seaborn as sns"
   ]
  },
  {
   "cell_type": "code",
   "execution_count": null,
   "metadata": {},
   "outputs": [],
   "source": [
    "%watermark -w\n",
    "%watermark -iv"
   ]
  },
  {
   "cell_type": "markdown",
   "metadata": {},
   "source": [
    "To illustrate `pysal-inequality` we utilize a built-in data set on gross domestic product for the 32 Mexican states measured each decade from 1940 through 2000:"
   ]
  },
  {
   "cell_type": "code",
   "execution_count": null,
   "metadata": {},
   "outputs": [],
   "source": [
    "libpysal.examples.explain(\"mexico\")"
   ]
  },
  {
   "cell_type": "code",
   "execution_count": null,
   "metadata": {},
   "outputs": [],
   "source": [
    "pth = libpysal.examples.get_path(\"mexicojoin.shp\")\n",
    "gdf = geopandas.read_file(pth)"
   ]
  },
  {
   "cell_type": "code",
   "execution_count": null,
   "metadata": {
    "scrolled": true
   },
   "outputs": [],
   "source": [
    "gdf.head()"
   ]
  },
  {
   "cell_type": "code",
   "execution_count": null,
   "metadata": {},
   "outputs": [],
   "source": [
    "import mapclassify\n",
    "import libpysal as lps\n",
    "import geopandas as gpd\n",
    "\n",
    "pth = lps.examples.get_path(\"mexicojoin.shp\")\n",
    "gdf = gpd.read_file(pth)\n",
    "\n",
    "# we will use greedy from mapclassify\n",
    "# states to ensure contiguous states are of a different color\n",
    "sgdf = gdf.sort_values(by='NAME')\n",
    "sgdf.reset_index(inplace=True)\n",
    "sgdf['label'] = range(1, 33)\n",
    "sgdf['greedy'] = mapclassify.greedy(sgdf)\n",
    "\n",
    "\n",
    "font_size = 9\n",
    "outside = [9, 29]\n",
    "oc = [(-103, 17.5), (-95, 22.5)]\n",
    "oe = [(-102.55, 17.49),(-95.5, 22.1)] \n",
    "oinfo = zip(outside, oc)\n",
    "\n",
    "\n",
    "from shapely.geometry import LineString\n",
    "\n",
    "\n",
    "import matplotlib.pyplot as plt\n",
    "sgdf['centroid'] = sgdf.centroid\n",
    "ax = sgdf.plot(\n",
    "    figsize=(8, 12),\n",
    "    column=\"greedy\",\n",
    "    categorical=True,\n",
    "    cmap=\"Set3\",\n",
    "    #legend=True,\n",
    "    edgecolor=\"w\",\n",
    ")\n",
    "\n",
    "\n",
    "table = []\n",
    "for idx, row in sgdf.iterrows():\n",
    "    centroid = row['centroid']\n",
    "    table.append(f'{idx+1:2d} {row[\"NAME\"]}')\n",
    "    if idx+1 not in outside:\n",
    "        ax.text(centroid.x, centroid.y, str(idx+1), ha='center',\n",
    "                va='center', fontsize=font_size, color='black')\n",
    "\n",
    "\n",
    "i = 0\n",
    "for out in oinfo:\n",
    "    idx, coords = out\n",
    "    ax.text(coords[0], coords[1], str(idx), ha='center',\n",
    "            va='center', fontsize=font_size, color='black')\n",
    "    start_point = coords\n",
    "    end_point = sgdf.centroid[idx-1]\n",
    "\n",
    "    \n",
    "    start_point = oe[i]\n",
    "    line = LineString([start_point, end_point])\n",
    "    \n",
    "    \n",
    "    line_gdf = gpd.GeoSeries([line])\n",
    "    \n",
    "    \n",
    "    line_gdf.plot(ax=ax, color='red', linewidth=2)\n",
    "    i+=1\n",
    "\n",
    "for i, label in enumerate(table):\n",
    "    if i < 16:\n",
    "        ax.text(-120, 20-i*1, label, ha='left',\n",
    "                va='center', fontsize=font_size, color='black');\n",
    "    else:\n",
    "        ax.text(-110, 20-(i-16)*1, label, ha='left',\n",
    "                va='center', fontsize=font_size, color='black');\n",
    "ax.set_axis_off()"
   ]
  },
  {
   "cell_type": "markdown",
   "metadata": {},
   "source": [
    "We begin with two views of the Mexican state income distribution. On the left we have a choropleth map using\n",
    "a quintile classification to depict the *spatial distribution* of incomes. \n",
    "To the map's right we have a kernel density estimate (KDE) of the *attribute distribution*.\n",
    "\n",
    "The map and KDE together indicate that economic development was\n",
    "unevenly distributed across Mexico in 1940, with a majority of states\n",
    "having relatively low per capita GDP and a small number of outliers\n",
    "with much higher values.  `pysal-inequality` implements a variety of indices to explore the inequality from distributional and spatial lenses."
   ]
  },
  {
   "cell_type": "code",
   "execution_count": null,
   "metadata": {},
   "outputs": [],
   "source": [
    "fig, axes = plt.subplots(1, 2, figsize=(8, 4))  # Two subplots in one row\n",
    "\n",
    "# Left column: Choropleth map\n",
    "ax_map = gdf.plot(column=\"PCGDP1940\", k=5, scheme=\"Quantiles\", legend=True,\n",
    "                  legend_kwds={'fmt': \"{:.0f}\"}, ax=axes[0])\n",
    "ax_map.set_axis_off()\n",
    "ax_map.set_title(\"PC GDP 1940\")\n",
    "\n",
    "# Right column: Kernel density plot\n",
    "sns.kdeplot(data=gdf['PCGDP1940'], ax=axes[1], fill=True, bw_adjust=0.5)\n",
    "axes[1].set_title(\"Kernel Density: PC GDP 1940\")\n",
    "axes[1].set_xlabel(\"Per Capita GDP\")\n",
    "axes[1].set_ylabel(\"Density\")\n",
    "\n",
    "# Adjust layout for better spacing\n",
    "plt.tight_layout()\n",
    "\n",
    "# Show the plots\n",
    "plt.show()"
   ]
  },
  {
   "cell_type": "markdown",
   "metadata": {},
   "source": [
    "## Classic Gini Coefficient\n",
    "\n",
    "The Gini coefficient can be expressed as the relative mean absolute difference in incomes between pairs of observations:\n",
    "$$G = \\frac{\\sum_i \\sum_j \\left| x_i - x_j \\right |}{2\\bar{x}n^2}$$\n",
    "where $x_i$ is the per capita income of area $i$, $\\bar{x}$ is the mean of the area per capita incomes, and $n$ is the number of areas.\n",
    "\n",
    "The numerator, $\\sum_i \\sum_j \\left | x_i - x_j \\right |$ is a measure of inequality in the data set. The Gini normalizes this measure relative to the mean income and the number of pairwise comparisons. As a result of the normalization, the Gini coefficient is bounded between 0 (perfect equality) and 1 (maximum inequality).\n",
    "\n",
    "Focusing on 1940, the Gini coefficient for Mexican state per capita income is:"
   ]
  },
  {
   "cell_type": "code",
   "execution_count": null,
   "metadata": {
    "ExecuteTime": {
     "end_time": "2023-01-17T02:01:02.985182Z",
     "start_time": "2023-01-17T02:01:02.978350Z"
    }
   },
   "outputs": [],
   "source": [
    "gini_1940 = inequality.gini.Gini(gdf[\"PCGDP1940\"])\n",
    "gini_1940.g"
   ]
  },
  {
   "cell_type": "markdown",
   "metadata": {},
   "source": [
    "There are a number of possible interpretations of this figure. Using the equation above, the mean relative absolute deviation between all pairs of Mexican states represents 35 percent of the mean income that year.\n",
    "\n",
    "A second interpretation is a graphical one:"
   ]
  },
  {
   "cell_type": "code",
   "execution_count": null,
   "metadata": {},
   "outputs": [],
   "source": [
    "from inequality.schutz import Schutz\n",
    "s = Schutz(gdf, 'PCGDP1940')\n",
    "s.plot()"
   ]
  },
  {
   "cell_type": "markdown",
   "metadata": {},
   "source": [
    "The Gini coefficient of 0.35 represents the percentage of the area below the line of perfect inequality that lies above the Lorenz Curve. \n",
    "\n",
    "Thus, as the Gini coefficient increases in value, inequality is increasing, as is the area of the lens formed by the diagonal and the Lorenz curve."
   ]
  },
  {
   "cell_type": "code",
   "execution_count": null,
   "metadata": {},
   "outputs": [],
   "source": [
    "inequality.gini.Gini(gdf['PCGDP2000']).g"
   ]
  },
  {
   "cell_type": "code",
   "execution_count": null,
   "metadata": {},
   "outputs": [],
   "source": [
    "s = Schutz(gdf, 'PCGDP2000')\n",
    "s.plot()"
   ]
  },
  {
   "cell_type": "markdown",
   "metadata": {},
   "source": [
    "In comparing the distribution from 1940 to that in 2000, we see that overall inequality has declined. The lower value of the Gini for 2000 as well as the smaller area of the inequality lens in the second plot demonstrate the decline.\n",
    "\n",
    "We can plot the time series of Gini values by decade to see the long term trend of a decline between these two terminal decades, with the steepest drop in inequality occuring in the first two periods of the sample."
   ]
  },
  {
   "cell_type": "code",
   "execution_count": null,
   "metadata": {},
   "outputs": [],
   "source": [
    "decades = range(1940, 2010, 10)\n",
    "ginis = [inequality.gini.Gini(gdf[\"PCGDP%s\" % decade]).g for decade in decades]\n",
    "import pandas as pd\n",
    "ginis_df = pd.DataFrame(data=ginis, columns=['Gini'], index = list(decades))\n",
    "ginis_df.plot();"
   ]
  },
  {
   "cell_type": "markdown",
   "metadata": {},
   "source": [
    "## Spatial Invariance of the Gini Coefficient\n",
    "\n",
    "The Gini coefficient measures the inequality in the distribution as reflected in the average pairwise difference, normalized to the sample mean.\n",
    "\n",
    "Although often used to measure inequality in geographical distributions, the geographical configuration of the observations is not actually taken into consideration in the classic Gini. In other words, the Gini coefficient is a *spatially invariant* measure of inequality.\n",
    "This means that the Gini coefficient is not sensitive to the spatial distribution of the attribute values.\n",
    "\n",
    "To see this, we can randomly permute the values from the 1940 map and contrast the two spatial distributions. On the left is the choropleth map for the observed 1940 spatial distribution of state income values, and on the right we have the permuted values. Below the two figures are the kernel densities for the attribute distributions associated with each of the maps. The two densities are identical despite the two maps being markedly different.\n",
    "\n",
    "We also see that the Gini index takes on the same value for each of the spatial distributions.\n"
   ]
  },
  {
   "cell_type": "code",
   "execution_count": null,
   "metadata": {},
   "outputs": [],
   "source": [
    "numpy.random.seed(12345)\n",
    "gdf['PCGDP1940r'] = numpy.random.permutation(gdf.PCGDP1940)"
   ]
  },
  {
   "cell_type": "code",
   "execution_count": null,
   "metadata": {},
   "outputs": [],
   "source": [
    "import matplotlib.pyplot as plt\n",
    "import seaborn as sns\n",
    "import geopandas as gpd\n",
    "\n",
    "\n",
    "fig, axes = plt.subplots(2, 2, figsize=(12, 10))\n",
    "\n",
    "gdf.plot(column='PCGDP1940', ax=axes[0, 0], legend=True, scheme='quantiles',k=4,cmap='viridis',\n",
    "        legend_kwds={\n",
    "            \"fmt\": \"{:.0f}\"}\n",
    "        )\n",
    "axes[0, 0].set_title('PCGDP1940')\n",
    "axes[0,0].axis('off')\n",
    "\n",
    "gdf.plot(column='PCGDP1940r', ax=axes[0, 1], legend=True, scheme='quantiles', k=4, cmap='viridis',\n",
    "        legend_kwds={\n",
    "            \"fmt\": \"{:.0f}\"}\n",
    "    )\n",
    "axes[0, 1].set_title('PCGDP1940r')\n",
    "axes[0,1].axis('off')\n",
    "\n",
    "\n",
    "sns.kdeplot(gdf['PCGDP1940'], ax=axes[1, 0], fill=True, color='blue')\n",
    "axes[1, 0].set_title('Kernel Density of PCGDP1940')\n",
    "\n",
    "sns.kdeplot(gdf['PCGDP1940r'], ax=axes[1, 1], fill=True, color='orange')\n",
    "axes[1, 1].set_title('Kernel Density of PCGDP1940r')\n",
    "\n",
    "plt.tight_layout()\n",
    "\n",
    "plt.show()"
   ]
  },
  {
   "cell_type": "code",
   "execution_count": null,
   "metadata": {},
   "outputs": [],
   "source": [
    "inequality.gini.Gini(gdf['PCGDP1940']).g == inequality.gini.Gini(gdf['PCGDP1940r']).g"
   ]
  },
  {
   "cell_type": "markdown",
   "metadata": {},
   "source": [
    "## Spatial Gini Coefficient\n",
    "\n",
    "To introduce the spatial dimension into the analysis of income inequality, the spatial Gini makes use of a decomposition of the numerator of the Gini:\n",
    "\n",
    "$$ \\sum_i \\sum_j \\left | x_i - x_j \\right | = \\sum_i \\sum_j  \\gamma_{i,j} \\left | x_i - x_j \\right | +   \\sum_i \\sum_j(1-\\gamma_{i,j}) \\left | x_i - x_j \\right |$$\n",
    "\n",
    "where $\\gamma_{i,j}$ is a binary indicator taking on a value of 1 if areas $i$ and $j$ are considered spatial neighbors, and 0 otherwise. \n",
    "The first term in the decomposition is the contribution to overall inequality due to inequality between pairs of spatial neighbors, while the second term is the contribution due to inequality between pairs of \"distant\" observations.\n",
    "In what follows, we note that \n",
    "the numerator of the Gini is the sum of the absolute deviations (SAD).\n",
    "\n",
    "The relative contribution of these two inequality components to the SAD will be a function of two factors:\n",
    "\n",
    "- the relative number of neighboring (distant) pairs\n",
    "- the inequality within each set of pairs\n",
    "\n",
    "\n",
    "\n",
    "\n",
    "`pysal-inequality` originally had a single Gini-based measure of spatial inequality based on the work of Rey and Smith (2013). \n",
    "This compared the sum of the observed absolute deviations of the distant pairs against what would be expected were incomes randomly distributed in space. \n",
    "Inference on this index relies on random permutations of the observed values to simulate the null hypothesis of spatially random incomes.\n",
    "\n",
    "To implement the spatial Gini, a definition of neighboring pairs is required. For this, we can use a Queen contiguity rule where two states are considered neighbors if their borders touch:"
   ]
  },
  {
   "cell_type": "code",
   "execution_count": null,
   "metadata": {},
   "outputs": [],
   "source": [
    "wq = libpysal.weights.Queen.from_dataframe(gdf)"
   ]
  },
  {
   "cell_type": "code",
   "execution_count": null,
   "metadata": {
    "ExecuteTime": {
     "end_time": "2023-01-17T02:01:03.234210Z",
     "start_time": "2023-01-17T02:01:03.204552Z"
    }
   },
   "outputs": [],
   "source": [
    "numpy.random.seed(12345)\n",
    "gs = inequality.gini.Gini_Spatial(gdf[\"PCGDP1940\"], wq)"
   ]
  },
  {
   "cell_type": "markdown",
   "metadata": {},
   "source": [
    "The sum of the absolute differences between non-neighbor pairs is stored in the `gc.wcg` attribute:"
   ]
  },
  {
   "cell_type": "code",
   "execution_count": null,
   "metadata": {
    "ExecuteTime": {
     "end_time": "2023-01-17T02:01:03.234210Z",
     "start_time": "2023-01-17T02:01:03.204552Z"
    }
   },
   "outputs": [],
   "source": [
    "gs.wcg"
   ]
  },
  {
   "cell_type": "markdown",
   "metadata": {},
   "source": [
    "Whether this value is large or not, is a question of inference.\n",
    "A pseudo p-value based on random permutations is stored in the `gs.p_sim` attribute:"
   ]
  },
  {
   "cell_type": "code",
   "execution_count": null,
   "metadata": {
    "ExecuteTime": {
     "end_time": "2023-01-17T02:01:03.234210Z",
     "start_time": "2023-01-17T02:01:03.204552Z"
    }
   },
   "outputs": [],
   "source": [
    "gs.p_sim"
   ]
  },
  {
   "cell_type": "markdown",
   "metadata": {},
   "source": [
    "The `gs.p_sim` value of 0.01 indicates that none of the 99 random permutations of incomes in space generated a sum of the pairwise differences for the distant pairs that was as large as what we observed in the actual pattern.\n",
    "\n",
    "Repeating this analysis for the same year, but with the random spatial distribution of the attribute values:"
   ]
  },
  {
   "cell_type": "code",
   "execution_count": null,
   "metadata": {},
   "outputs": [],
   "source": [
    "gsr = inequality.gini.Gini_Spatial(gdf[\"PCGDP1940r\"], wq)\n",
    "gsr.wcg"
   ]
  },
  {
   "cell_type": "markdown",
   "metadata": {},
   "source": [
    "we see that the differences between the \"distant\" pairs has declined relative to what we saw for the observed distribution.\n",
    "Moreover, the spatial gini index for the random distribution is no longer statistically significant:"
   ]
  },
  {
   "cell_type": "code",
   "execution_count": null,
   "metadata": {},
   "outputs": [],
   "source": [
    "gsr.p_sim"
   ]
  },
  {
   "cell_type": "markdown",
   "metadata": {},
   "source": [
    "## Gini Spatial Polarization Index\n",
    "\n",
    "Using the decomposition of the SAD into the two components, we can draw inspiration from the spatial polarization literature where Zhang and Kanbur (2001)  have suggested that an index of polarization defined as a ratio of inequality between regions over inequality within regions. Adapting this to our Gini decomposition, one such Gini-Based Spatial Polarization Index could be:\n",
    "$$\n",
    "GP = \\frac{ \\sum_i \\sum_j(1-\\gamma_{i,j}) \\left | x_i - x_j \\right |} {\\sum_i \\sum_j  \\gamma_{i,j} \\left | x_i - x_j \\right | }  $$\n",
    "\n",
    "\n",
    "However, simply decomposing the SAD into that due to the neighboring pairs and that due to the distant pairs will place more weight on the distant pairs component.\n",
    "This is because they will generally outnumber the  neighboring pairs.\n",
    "\n",
    "Thus, a polarization index formed as the ratio of the two components would be difficult to interpret and therefore potentially misleading.\n",
    "Instead,\n",
    "the polarization should take the relative size of the two pair sets into account:\n",
    "\n",
    "\n",
    "\n",
    "$n_{\\text{pairs}} = n(n-1)/2$\n",
    "\n",
    "$n_{\\text{pairs}} = n_{\\text{neighbor pairs}} + n_{\\text{distant pairs}}$\n",
    "\n",
    "Under the null, the average difference between two observations should be the same, whether the pair of observations are neighbors or not. That means that, under the null:\n",
    "\n",
    "$E[GP] = \\frac{n_{\\text{distant pairs}}} {n_{\\text{neighbor pairs}}}$\n",
    "\n",
    "We can use this to normalize and define the Gini Spatial Polarization index as:\n",
    "$$\n",
    "GP/E[GP] = \\left( \\frac{ \\sum_i \\sum_j(1-\\gamma_{i,j}) \\left | x_i - x_j \\right |} {\\sum_i \\sum_j  \\gamma_{i,j} \\left | x_i - x_j \\right | } \\right ) / \\left ( \\frac{n_{\\text{distant pairs}}} {n_{\\text{neighbor pairs}}} \\right )\n",
    "$$\n",
    "\n",
    "We can view this index in two ways. First, the Gini Polarization is expressed relative to its expected value. In cases where this exceeds 1, the differences due to distant pairs is larger than that due to neighboring pairs under the expectation of no difference.\n",
    "\n",
    "The second view of the Gini Polarization index is as a ratio of the average pairwise difference for the distant pairs over the average pairwise difference for the neighboring pairs."
   ]
  },
  {
   "cell_type": "code",
   "execution_count": null,
   "metadata": {},
   "outputs": [],
   "source": [
    "gs.polarization_sim.mean()\n",
    "\n",
    "gs.polarization_sim.max()\n",
    "gs.polarization_sim.max()\n",
    "\n",
    "import numpy as np\n",
    "import matplotlib.pyplot as plt\n",
    "from scipy.stats import gaussian_kde\n",
    "\n",
    "# Data array\n",
    "data = gs.polarization_sim\n",
    "\n",
    "obs = gs.polarization\n",
    "\n",
    "# Kernel Density Estimation\n",
    "kde = gaussian_kde(data)\n",
    "maxd = max(max(data), obs)\n",
    "x_range = np.linspace(min(data), maxd, 1000)\n",
    "kde_values = kde(x_range)\n",
    "\n",
    "# Plot\n",
    "plt.figure(figsize=(10, 6))\n",
    "plt.plot(x_range, kde_values, label='Kernel Density Estimate')\n",
    "plt.axvline(x=obs, color='red', linestyle='--', label=f'Value = {obs:.2f}')\n",
    "plt.title(\"Gini Spatial Polarization Index 1940\")\n",
    "plt.xlabel(\"Values\")\n",
    "plt.ylabel(\"Density\")\n",
    "plt.legend()\n",
    "plt.grid(True)\n",
    "plt.show()\n",
    "\n",
    "\n",
    "gs.polarization_p_sim"
   ]
  },
  {
   "cell_type": "markdown",
   "metadata": {},
   "source": [
    "The Gini Polarization index of 1.52 means that the average pairwise difference between observations that are distant is 52 percent larger than the average pairwise difference for neighboring observations.\n",
    "The kernel density of the spatial polarization indices from the 99 random permutations of the observed income values for 1940 suggests that the observed index value is significantly different from what would be expected under the null of a spatially random income distribution. In fact, none of the synthetic distributions generated spatial polarization values as large as the observed value.\n",
    "\n",
    "If we repeat this for the random permutation for 1940 that we used above, the spatial polarization index for the \"observed\" spatial distribution takes on the value of 0.92.\n",
    "And, based on the pseudo p-value, this index is not a significant departure from the null of spatially random incomes for 1940."
   ]
  },
  {
   "cell_type": "code",
   "execution_count": null,
   "metadata": {},
   "outputs": [],
   "source": [
    "gsr.polarization"
   ]
  },
  {
   "cell_type": "code",
   "execution_count": null,
   "metadata": {},
   "outputs": [],
   "source": [
    "gsr.polarization_sim.mean()\n",
    "\n",
    "gsr.polarization_sim.max()\n",
    "gsr.polarization_sim.max()\n",
    "\n",
    "import numpy as np\n",
    "import matplotlib.pyplot as plt\n",
    "from scipy.stats import gaussian_kde\n",
    "\n",
    "# Data array\n",
    "data = gsr.polarization_sim\n",
    "\n",
    "obs = gsr.polarization\n",
    "\n",
    "# Kernel Density Estimation\n",
    "kde = gaussian_kde(data)\n",
    "maxd = max(max(data), obs)\n",
    "x_range = np.linspace(min(data), maxd, 1000)\n",
    "kde_values = kde(x_range)\n",
    "\n",
    "# Plot\n",
    "plt.figure(figsize=(10, 6))\n",
    "plt.plot(x_range, kde_values, label='Kernel Density Estimate')\n",
    "plt.axvline(x=obs, color='red', linestyle='--', label=f'Value = {obs:.2f}')\n",
    "plt.title(\"Gini Spatial Polarization Index 1940 (Random)\")\n",
    "\n",
    "plt.xlabel(\"Values\")\n",
    "plt.ylabel(\"Density\")\n",
    "plt.legend()\n",
    "plt.grid(True)\n",
    "plt.show()\n",
    "\n",
    "\n",
    "gsr.polarization_p_sim"
   ]
  },
  {
   "cell_type": "markdown",
   "metadata": {},
   "source": [
    "### Alternative neighbor definitions\n",
    "The spatial decomposition used in both the spatial Gini and the Gini\n",
    "spatial polarization index can accommodate different definitions of\n",
    "neighboring pairs. To illustrate this, we utilize a regional partition\n",
    "scheme used by Hanson (1996) to study the effects of the North\n",
    "American Free Trade Agreement. This assigns the states into five\n",
    "exhaustive and mutually exclusive regions portrayed below. Using this\n",
    "partition we can defined neighbor pairs based on regional membership.\n",
    "That is, two states belonging to the same region constitute a\n",
    "neighboring pair, while two states belonging to different regions are\n",
    "defined as a distant pair."
   ]
  },
  {
   "cell_type": "code",
   "execution_count": null,
   "metadata": {
    "ExecuteTime": {
     "end_time": "2023-01-17T02:01:03.029897Z",
     "start_time": "2023-01-17T02:01:03.026482Z"
    }
   },
   "outputs": [],
   "source": [
    "regimes = gdf[\"HANSON98\"]\n",
    "\n",
    "wb = libpysal.weights.block_weights(regimes, silence_warnings=True)\n",
    "wb\n",
    "\n",
    "ax = gdf.plot(column=\"HANSON98\", categorical=True)\n",
    "ax.set_title(\"Regions\")\n",
    "ax.set_axis_off()\n",
    "\n",
    "numpy.random.seed(12345)\n",
    "gsh = inequality.gini.Gini_Spatial(gdf[\"PCGDP1940\"], wb)\n",
    "gsh.p_sim\n",
    "\n",
    "\n",
    "\n",
    "\n",
    "import numpy as np\n",
    "import matplotlib.pyplot as plt\n",
    "from scipy.stats import gaussian_kde\n",
    "\n",
    "# Data array\n",
    "data = gsh.polarization_sim\n",
    "\n",
    "obs = gsh.polarization\n",
    "\n",
    "# Kernel Density Estimation\n",
    "kde = gaussian_kde(data)\n",
    "maxd = max(max(data), obs)\n",
    "x_range = np.linspace(min(data), maxd, 1000)\n",
    "kde_values = kde(x_range)\n",
    "\n",
    "# Plot\n",
    "plt.figure(figsize=(10, 6))\n",
    "plt.plot(x_range, kde_values, label='Kernel Density Estimate')\n",
    "plt.axvline(x=obs, color='red', linestyle='--', label=f'Value = {obs}')\n",
    "plt.title(\"Gini Spatial Polarization 1940 (Hanson)\")\n",
    "plt.xlabel(\"Values\")\n",
    "plt.ylabel(\"Density\")\n",
    "plt.legend()\n",
    "plt.grid(True)\n",
    "plt.show()"
   ]
  },
  {
   "cell_type": "markdown",
   "metadata": {},
   "source": [
    "The Gini Spatial Polarization index takes on a value of 1.29 for the\n",
    "Hanson partition, with an associated p-value of 0.01. Note that the\n",
    "shape of the index distribution under the null is markedly different\n",
    "from that based on the Queen contiguity structure. In both cases, the\n",
    "observed index values are significant, however it is clear that the\n",
    "spatial structure of the particular neighbor graph needs to be taken\n",
    "into account to ensure meaningful inference.\n",
    "\n",
    "Finally, we repeat the analysis using the Hanson partition, but this time for the random spatial distribution of incomes in 1940.\n",
    "As was the case for the Queen definition of neighbors, the polarization index is no longer significant for this synthetic distribution.\n"
   ]
  },
  {
   "cell_type": "code",
   "execution_count": null,
   "metadata": {
    "ExecuteTime": {
     "end_time": "2023-01-17T02:01:03.029897Z",
     "start_time": "2023-01-17T02:01:03.026482Z"
    }
   },
   "outputs": [],
   "source": [
    "# Random Incomes\n",
    "\n",
    "gshr = inequality.gini.Gini_Spatial(gdf[\"PCGDP1940r\"], wb)\n",
    "gshr.p_sim\n",
    "data = gshr.polarization_sim\n",
    "\n",
    "obs = gshr.polarization\n",
    "\n",
    "# Kernel Density Estimation\n",
    "kde = gaussian_kde(data)\n",
    "maxd = max(max(data), obs)\n",
    "x_range = np.linspace(min(data), maxd, 1000)\n",
    "kde_values = kde(x_range)\n",
    "\n",
    "# Plot\n",
    "plt.figure(figsize=(10, 6))\n",
    "plt.plot(x_range, kde_values, label='Kernel Density')\n",
    "plt.axvline(x=obs, color='red', linestyle='--', label=f'Value = {obs:.2f}')\n",
    "plt.title(\"Gini Spatial Polarization 1940 (Hanson Random)\")\n",
    "\n",
    "plt.xlabel(\"Values\")\n",
    "plt.ylabel(\"Density\")\n",
    "plt.legend()\n",
    "plt.grid(True)\n",
    "plt.show()"
   ]
  },
  {
   "cell_type": "markdown",
   "metadata": {},
   "source": [
    "## References\n",
    "\n",
    "- Hanson, Gordon H. U.S.-Mexico Integration and Regional Economies. Cambridge: National Bureau of Economic Research, 1996.\n",
    "- Rey, Sergio J., and Richard J Smith. “A Spatial Decomposition of the Gini Coefficient.” Letters in Spatial and Resource Sciences 6 (2013): 55–70.\n",
    "- Zhang, Xiaobo, and Ravi Kanbur. “What Difference Do Polarisation Measures Make?: An Application to China.” Journal of Development Studies 37 (2001): 85–98."
   ]
  }
 ],
 "metadata": {
  "kernelspec": {
   "display_name": "Python 3 (ipykernel)",
   "language": "python",
   "name": "python3"
  },
  "language_info": {
   "codemirror_mode": {
    "name": "ipython",
    "version": 3
   },
   "file_extension": ".py",
   "mimetype": "text/x-python",
   "name": "python",
   "nbconvert_exporter": "python",
   "pygments_lexer": "ipython3",
   "version": "3.10.16"
  }
 },
 "nbformat": 4,
 "nbformat_minor": 4
}
